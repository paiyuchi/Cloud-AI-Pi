{
 "cells": [
  {
   "cell_type": "code",
   "execution_count": 17,
   "metadata": {},
   "outputs": [
    {
     "name": "stdout",
     "output_type": "stream",
     "text": [
      "_________________________________________________________________\n",
      "Layer (type)                 Output Shape              Param #   \n",
      "=================================================================\n",
      "conv2d_1 (Conv2D)            (None, 28, 28, 16)        416       \n",
      "_________________________________________________________________\n",
      "max_pooling2d_1 (MaxPooling2 (None, 14, 14, 16)        0         \n",
      "_________________________________________________________________\n",
      "conv2d_2 (Conv2D)            (None, 14, 14, 36)        14436     \n",
      "_________________________________________________________________\n",
      "max_pooling2d_2 (MaxPooling2 (None, 7, 7, 36)          0         \n",
      "_________________________________________________________________\n",
      "dropout_1 (Dropout)          (None, 7, 7, 36)          0         \n",
      "_________________________________________________________________\n",
      "flatten_1 (Flatten)          (None, 1764)              0         \n",
      "_________________________________________________________________\n",
      "dense_1 (Dense)              (None, 128)               225920    \n",
      "_________________________________________________________________\n",
      "dropout_2 (Dropout)          (None, 128)               0         \n",
      "_________________________________________________________________\n",
      "dense_2 (Dense)              (None, 10)                1290      \n",
      "=================================================================\n",
      "Total params: 242,062\n",
      "Trainable params: 242,062\n",
      "Non-trainable params: 0\n",
      "_________________________________________________________________\n",
      "None\n"
     ]
    }
   ],
   "source": [
    "print(model.summary())"
   ]
  },
  {
   "cell_type": "code",
   "execution_count": 18,
   "metadata": {},
   "outputs": [],
   "source": [
    "model.compile(loss='categorical_crossentropy',\n",
    "              optimizer='adam',metrics=['accuracy']) "
   ]
  },
  {
   "cell_type": "code",
   "execution_count": 19,
   "metadata": {},
   "outputs": [
    {
     "name": "stdout",
     "output_type": "stream",
     "text": [
      "Train on 48000 samples, validate on 12000 samples\n",
      "Epoch 1/20\n",
      " - 89s - loss: 0.4874 - acc: 0.8479 - val_loss: 0.0967 - val_acc: 0.9717\n",
      "Epoch 2/20\n",
      " - 82s - loss: 0.1411 - acc: 0.9586 - val_loss: 0.0635 - val_acc: 0.9803\n",
      "Epoch 3/20\n",
      " - 82s - loss: 0.1031 - acc: 0.9689 - val_loss: 0.0517 - val_acc: 0.9835\n",
      "Epoch 4/20\n",
      " - 77s - loss: 0.0844 - acc: 0.9753 - val_loss: 0.0449 - val_acc: 0.9859\n",
      "Epoch 5/20\n",
      " - 75s - loss: 0.0715 - acc: 0.9786 - val_loss: 0.0392 - val_acc: 0.9876\n",
      "Epoch 6/20\n",
      " - 79s - loss: 0.0648 - acc: 0.9809 - val_loss: 0.0394 - val_acc: 0.9880\n",
      "Epoch 7/20\n",
      " - 75s - loss: 0.0561 - acc: 0.9832 - val_loss: 0.0426 - val_acc: 0.9879\n",
      "Epoch 8/20\n",
      " - 75s - loss: 0.0512 - acc: 0.9842 - val_loss: 0.0340 - val_acc: 0.9901\n",
      "Epoch 9/20\n",
      " - 76s - loss: 0.0457 - acc: 0.9864 - val_loss: 0.0339 - val_acc: 0.9902\n",
      "Epoch 10/20\n",
      " - 75s - loss: 0.0432 - acc: 0.9867 - val_loss: 0.0346 - val_acc: 0.9906\n",
      "Epoch 11/20\n",
      " - 85s - loss: 0.0412 - acc: 0.9877 - val_loss: 0.0333 - val_acc: 0.9906\n",
      "Epoch 12/20\n",
      " - 80s - loss: 0.0376 - acc: 0.9879 - val_loss: 0.0285 - val_acc: 0.9912\n",
      "Epoch 13/20\n",
      " - 75s - loss: 0.0340 - acc: 0.9898 - val_loss: 0.0277 - val_acc: 0.9919\n",
      "Epoch 14/20\n",
      " - 76s - loss: 0.0317 - acc: 0.9902 - val_loss: 0.0282 - val_acc: 0.9918\n",
      "Epoch 15/20\n",
      " - 75s - loss: 0.0306 - acc: 0.9899 - val_loss: 0.0282 - val_acc: 0.9921\n",
      "Epoch 16/20\n",
      " - 75s - loss: 0.0283 - acc: 0.9907 - val_loss: 0.0280 - val_acc: 0.9918\n",
      "Epoch 17/20\n",
      " - 76s - loss: 0.0271 - acc: 0.9916 - val_loss: 0.0284 - val_acc: 0.9919\n",
      "Epoch 18/20\n",
      " - 79s - loss: 0.0268 - acc: 0.9915 - val_loss: 0.0275 - val_acc: 0.9928\n",
      "Epoch 19/20\n",
      " - 80s - loss: 0.0255 - acc: 0.9921 - val_loss: 0.0272 - val_acc: 0.9928\n",
      "Epoch 20/20\n",
      " - 87s - loss: 0.0239 - acc: 0.9924 - val_loss: 0.0290 - val_acc: 0.9920\n"
     ]
    }
   ],
   "source": [
    "train_history=model.fit(x=x_Train4D_normalize, \n",
    "                        y=y_TrainOneHot,validation_split=0.2, \n",
    "                        epochs=20, batch_size=300,verbose=2)"
   ]
  },
  {
   "cell_type": "markdown",
   "metadata": {},
   "source": [
    "處理器：1.4 GHz  \n",
    "記憶體：8 GB  \n",
    "訓練時間：1573 s"
   ]
  }
 ],
 "metadata": {
  "anaconda-cloud": {},
  "kernelspec": {
   "display_name": "Python 3",
   "language": "python",
   "name": "python3"
  },
  "language_info": {
   "codemirror_mode": {
    "name": "ipython",
    "version": 3
   },
   "file_extension": ".py",
   "mimetype": "text/x-python",
   "name": "python",
   "nbconvert_exporter": "python",
   "pygments_lexer": "ipython3",
   "version": "3.6.4"
  }
 },
 "nbformat": 4,
 "nbformat_minor": 1
}
